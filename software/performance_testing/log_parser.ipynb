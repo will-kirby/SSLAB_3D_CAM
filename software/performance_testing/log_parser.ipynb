{
 "cells": [
  {
   "cell_type": "markdown",
   "metadata": {},
   "source": [
    "# Testing Report\n",
    "### Key Metrics"
   ]
  },
  {
   "cell_type": "code",
   "execution_count": 76,
   "metadata": {},
   "outputs": [],
   "source": [
    "import pandas as pd\n",
    "import matplotlib.pyplot as plt\n",
    "import numpy as np"
   ]
  },
  {
   "cell_type": "code",
   "execution_count": 77,
   "metadata": {},
   "outputs": [
    {
     "name": "stdout",
     "output_type": "stream",
     "text": [
      "Reading test log with Settings:\n",
      "  Duration: 10\n",
      "  Cameras: 4\n",
      "  Stitching Algorithm: OpenCV Stitcher\n"
     ]
    }
   ],
   "source": [
    "log_file = 'logs/2022-09-06_11.55.24.csv'\n",
    "\n",
    "header_info = pd.read_csv(log_file, nrows=0)\n",
    "print('Reading test log with Settings:')\n",
    "for col in header_info.columns:\n",
    "  print(' ', col)"
   ]
  },
  {
   "cell_type": "code",
   "execution_count": 78,
   "metadata": {},
   "outputs": [
    {
     "data": {
      "text/html": [
       "<div>\n",
       "<style scoped>\n",
       "    .dataframe tbody tr th:only-of-type {\n",
       "        vertical-align: middle;\n",
       "    }\n",
       "\n",
       "    .dataframe tbody tr th {\n",
       "        vertical-align: top;\n",
       "    }\n",
       "\n",
       "    .dataframe thead th {\n",
       "        text-align: right;\n",
       "    }\n",
       "</style>\n",
       "<table border=\"1\" class=\"dataframe\">\n",
       "  <thead>\n",
       "    <tr style=\"text-align: right;\">\n",
       "      <th></th>\n",
       "      <th>Start Time</th>\n",
       "      <th>End Time</th>\n",
       "      <th>Status</th>\n",
       "    </tr>\n",
       "  </thead>\n",
       "  <tbody>\n",
       "    <tr>\n",
       "      <th>0</th>\n",
       "      <td>0.433567</td>\n",
       "      <td>0.533102</td>\n",
       "      <td>0</td>\n",
       "    </tr>\n",
       "    <tr>\n",
       "      <th>1</th>\n",
       "      <td>0.533186</td>\n",
       "      <td>0.645597</td>\n",
       "      <td>1</td>\n",
       "    </tr>\n",
       "    <tr>\n",
       "      <th>2</th>\n",
       "      <td>0.645707</td>\n",
       "      <td>0.746416</td>\n",
       "      <td>1</td>\n",
       "    </tr>\n",
       "    <tr>\n",
       "      <th>3</th>\n",
       "      <td>0.746486</td>\n",
       "      <td>0.850647</td>\n",
       "      <td>0</td>\n",
       "    </tr>\n",
       "    <tr>\n",
       "      <th>4</th>\n",
       "      <td>0.850766</td>\n",
       "      <td>0.954028</td>\n",
       "      <td>1</td>\n",
       "    </tr>\n",
       "  </tbody>\n",
       "</table>\n",
       "</div>"
      ],
      "text/plain": [
       "   Start Time  End Time  Status\n",
       "0    0.433567  0.533102       0\n",
       "1    0.533186  0.645597       1\n",
       "2    0.645707  0.746416       1\n",
       "3    0.746486  0.850647       0\n",
       "4    0.850766  0.954028       1"
      ]
     },
     "execution_count": 78,
     "metadata": {},
     "output_type": "execute_result"
    }
   ],
   "source": [
    "df = pd.read_csv(log_file, skiprows=[0])\n",
    "df.head()"
   ]
  },
  {
   "cell_type": "markdown",
   "metadata": {},
   "source": [
    "### Successful Stitch Times"
   ]
  },
  {
   "cell_type": "code",
   "execution_count": 79,
   "metadata": {},
   "outputs": [
    {
     "data": {
      "text/html": [
       "<div>\n",
       "<style scoped>\n",
       "    .dataframe tbody tr th:only-of-type {\n",
       "        vertical-align: middle;\n",
       "    }\n",
       "\n",
       "    .dataframe tbody tr th {\n",
       "        vertical-align: top;\n",
       "    }\n",
       "\n",
       "    .dataframe thead th {\n",
       "        text-align: right;\n",
       "    }\n",
       "</style>\n",
       "<table border=\"1\" class=\"dataframe\">\n",
       "  <thead>\n",
       "    <tr style=\"text-align: right;\">\n",
       "      <th></th>\n",
       "      <th>Start Time</th>\n",
       "      <th>End Time</th>\n",
       "      <th>Status</th>\n",
       "    </tr>\n",
       "  </thead>\n",
       "  <tbody>\n",
       "    <tr>\n",
       "      <th>0</th>\n",
       "      <td>0.433567</td>\n",
       "      <td>0.533102</td>\n",
       "      <td>0</td>\n",
       "    </tr>\n",
       "    <tr>\n",
       "      <th>3</th>\n",
       "      <td>0.746486</td>\n",
       "      <td>0.850647</td>\n",
       "      <td>0</td>\n",
       "    </tr>\n",
       "    <tr>\n",
       "      <th>6</th>\n",
       "      <td>1.068276</td>\n",
       "      <td>1.178556</td>\n",
       "      <td>0</td>\n",
       "    </tr>\n",
       "    <tr>\n",
       "      <th>7</th>\n",
       "      <td>1.178752</td>\n",
       "      <td>1.290260</td>\n",
       "      <td>0</td>\n",
       "    </tr>\n",
       "    <tr>\n",
       "      <th>10</th>\n",
       "      <td>1.506553</td>\n",
       "      <td>1.607654</td>\n",
       "      <td>0</td>\n",
       "    </tr>\n",
       "  </tbody>\n",
       "</table>\n",
       "</div>"
      ],
      "text/plain": [
       "    Start Time  End Time  Status\n",
       "0     0.433567  0.533102       0\n",
       "3     0.746486  0.850647       0\n",
       "6     1.068276  1.178556       0\n",
       "7     1.178752  1.290260       0\n",
       "10    1.506553  1.607654       0"
      ]
     },
     "execution_count": 79,
     "metadata": {},
     "output_type": "execute_result"
    }
   ],
   "source": [
    "successful_stitches = df[df['Status'] == 0]\n",
    "successful_stitches.head()"
   ]
  },
  {
   "cell_type": "code",
   "execution_count": 80,
   "metadata": {},
   "outputs": [
    {
     "name": "stdout",
     "output_type": "stream",
     "text": [
      "Successful Stitch Time Statistics\n"
     ]
    },
    {
     "data": {
      "text/plain": [
       "count    46.000000\n",
       "mean      0.106890\n",
       "std       0.004258\n",
       "min       0.099534\n",
       "25%       0.103596\n",
       "50%       0.104366\n",
       "75%       0.111606\n",
       "max       0.112917\n",
       "dtype: float64"
      ]
     },
     "execution_count": 80,
     "metadata": {},
     "output_type": "execute_result"
    }
   ],
   "source": [
    "stitch_times = successful_stitches['End Time'] - successful_stitches['Start Time']\n",
    "print(\"Successful Stitch Time Statistics\")\n",
    "stitch_times.describe()"
   ]
  },
  {
   "cell_type": "code",
   "execution_count": 81,
   "metadata": {},
   "outputs": [
    {
     "data": {
      "image/png": "[encoded data removed]",
      "text/plain": [
       "<Figure size 432x288 with 1 Axes>"
      ]
     },
     "metadata": {
      "needs_background": "light"
     },
     "output_type": "display_data"
    }
   ],
   "source": [
    "mean = np.mean(stitch_times)\n",
    "\n",
    "plt.hist(stitch_times)\n",
    "plt.axvline(mean, color='k', linestyle='dashed', linewidth=1,label=('mean='+str(mean)))\n",
    "plt.title('Successful Stitch Times')\n",
    "plt.ylabel('Density')\n",
    "plt.xlabel('Time (seconds)')\n",
    "plt.legend();"
   ]
  },
  {
   "cell_type": "markdown",
   "metadata": {},
   "source": [
    "### Stitch Percentage"
   ]
  },
  {
   "cell_type": "code",
   "execution_count": 82,
   "metadata": {},
   "outputs": [
    {
     "data": {
      "image/png": "[encoded data removed]",
      "text/plain": [
       "<Figure size 432x288 with 1 Axes>"
      ]
     },
     "metadata": {
      "needs_background": "light"
     },
     "output_type": "display_data"
    }
   ],
   "source": [
    "stitch_rate = round(successful_stitches.shape[0] / df.shape[0], 2)\n",
    "stitch_rate\n",
    "\n",
    "vc = df['Status'].value_counts().sort_index()\n",
    "vc.plot(kind='bar')\n",
    "plt.xlabel('Status Codes')\n",
    "plt.ylabel('Counts')\n",
    "plt.title(f'Stitched Percentage {stitch_rate}');"
   ]
  },
  {
   "cell_type": "code",
   "execution_count": null,
   "metadata": {},
   "outputs": [],
   "source": []
  }
 ],
 "metadata": {
  "kernelspec": {
   "display_name": "datascience",
   "language": "python",
   "name": "datascience"
  },
  "language_info": {
   "codemirror_mode": {
    "name": "ipython",
    "version": 3
   },
   "file_extension": ".py",
   "mimetype": "text/x-python",
   "name": "python",
   "nbconvert_exporter": "python",
   "pygments_lexer": "ipython3",
   "version": "3.8.12"
  },
  "orig_nbformat": 4,
  "vscode": {
   "interpreter": {
    "hash": "069a84c7573b201fe42d19391e661c0e45bfb753498e45a99624cb77b025eecf"
   }
  }
 },
 "nbformat": 4,
 "nbformat_minor": 2
}
